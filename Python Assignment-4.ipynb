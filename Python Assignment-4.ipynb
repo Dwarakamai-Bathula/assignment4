{
 "cells": [
  {
   "cell_type": "code",
   "execution_count": 8,
   "metadata": {},
   "outputs": [
    {
     "name": "stdout",
     "output_type": "stream",
     "text": [
      "2\n",
      "3\n",
      "4\n",
      "20.493901531919196\n"
     ]
    }
   ],
   "source": [
    "class Triangle:\n",
    "    def __init__(self,a,b,c):\n",
    "        self.a=a\n",
    "        self.b=b\n",
    "        self.c=c\n",
    "class Area(Triangle):\n",
    "    def __init__(self, *args):\n",
    "        super(Area, self).__init__(*args)\n",
    "    def area(self):\n",
    "        s = a + b + c / 2\n",
    "        return (s*(s-a)*(s-b)*(s-c)) ** 0.5\n",
    "a=int(input())    \n",
    "b=int(input())\n",
    "c=int(input())\n",
    "A = Area(a,b,c)\n",
    "print(A.area())\n"
   ]
  },
  {
   "cell_type": "markdown",
   "metadata": {},
   "source": []
  },
  {
   "cell_type": "code",
   "execution_count": 9,
   "metadata": {},
   "outputs": [
    {
     "data": {
      "text/plain": [
       "['rises', 'east']"
      ]
     },
     "execution_count": 9,
     "metadata": {},
     "output_type": "execute_result"
    }
   ],
   "source": [
    "words=[\"Sun\",\"rises\",\"in\",\"the\",\"east\"]\n",
    "def filter_long_words(words,n):\n",
    "    return filter(lambda x: len(x)>n,words)\n",
    "list(filter_long_words(words,3))"
   ]
  },
  {
   "cell_type": "code",
   "execution_count": 12,
   "metadata": {},
   "outputs": [
    {
     "name": "stdout",
     "output_type": "stream",
     "text": [
      "Charminar is in Hyderabad\n",
      "[9, 2, 2, 9]\n"
     ]
    }
   ],
   "source": [
    "inpt=list(map(str,input().split()))\n",
    "lst=[]\n",
    "for i in inpt:\n",
    "    a=len(i)\n",
    "    lst.append(a)\n",
    "print(lst)          \n",
    "          "
   ]
  },
  {
   "cell_type": "code",
   "execution_count": 19,
   "metadata": {},
   "outputs": [
    {
     "name": "stdout",
     "output_type": "stream",
     "text": [
      "w\n",
      "False\n"
     ]
    }
   ],
   "source": [
    "vowels=('a','e','i','o','u')\n",
    "def vowel(i):\n",
    "    if i in vowels:\n",
    "        return True\n",
    "    if i not in vowels:\n",
    "        return False\n",
    "a=input()\n",
    "print(vowel(a))\n"
   ]
  },
  {
   "cell_type": "code",
   "execution_count": null,
   "metadata": {},
   "outputs": [],
   "source": []
  },
  {
   "cell_type": "code",
   "execution_count": null,
   "metadata": {},
   "outputs": [],
   "source": []
  },
  {
   "cell_type": "code",
   "execution_count": null,
   "metadata": {},
   "outputs": [],
   "source": []
  }
 ],
 "metadata": {
  "kernelspec": {
   "display_name": "Python 3",
   "language": "python",
   "name": "python3"
  },
  "language_info": {
   "codemirror_mode": {
    "name": "ipython",
    "version": 3
   },
   "file_extension": ".py",
   "mimetype": "text/x-python",
   "name": "python",
   "nbconvert_exporter": "python",
   "pygments_lexer": "ipython3",
   "version": "3.7.4"
  }
 },
 "nbformat": 4,
 "nbformat_minor": 2
}
